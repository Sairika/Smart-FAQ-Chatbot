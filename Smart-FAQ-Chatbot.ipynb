{
  "nbformat": 4,
  "nbformat_minor": 0,
  "metadata": {
    "colab": {
      "provenance": []
    },
    "kernelspec": {
      "name": "python3",
      "display_name": "Python 3"
    },
    "language_info": {
      "name": "python"
    }
  },
  "cells": [
    {
      "cell_type": "markdown",
      "source": [
        "# Smart FAQ Chatbot with vectorizer"
      ],
      "metadata": {
        "id": "B1W6rZoIpVCk"
      }
    },
    {
      "cell_type": "markdown",
      "source": [
        "## Step-1: Import Necessary Libraries"
      ],
      "metadata": {
        "id": "9B5cpH-lpkPe"
      }
    },
    {
      "cell_type": "code",
      "source": [
        "import numpy as np\n",
        "from sklearn.feature_extraction.text import TfidfVectorizer\n",
        "from sklearn.metrics.pairwise import cosine_similarity\n",
        "import re"
      ],
      "metadata": {
        "id": "ZxJrVfo3oRiH"
      },
      "execution_count": 1,
      "outputs": []
    },
    {
      "cell_type": "markdown",
      "source": [
        "## Step-2 : FAQChatbot Class Creation"
      ],
      "metadata": {
        "id": "U3uPoOQBprTg"
      }
    },
    {
      "cell_type": "code",
      "source": [
        "class FAQChatbot:\n",
        "    def __init__(self, faq_data, similarity_threshold=0.3):\n",
        "        \"\"\"\n",
        "        Initialize the FAQ chatbot with a dictionary of questions and answers.\n",
        "\n",
        "        Args:\n",
        "            faq_data (dict): Dictionary with FAQ questions as keys and answers as values\n",
        "            similarity_threshold (float): Minimum similarity score to consider a match\n",
        "        \"\"\"\n",
        "        self.faq_data = faq_data\n",
        "        self.questions = list(faq_data.keys())\n",
        "        self.answers = list(faq_data.values())\n",
        "        self.threshold = similarity_threshold\n",
        "\n",
        "        # Initialize and fit the TF-IDF vectorizer on the FAQ questions\n",
        "        self.vectorizer = TfidfVectorizer(\n",
        "            lowercase=True,\n",
        "            strip_accents='unicode',\n",
        "            ngram_range=(1, 3),  # Include unigrams, bigrams, and trigrams for better matching\n",
        "            max_features=10000,   # Increased for larger FAQ dataset\n",
        "            stop_words='english'\n",
        "        )\n",
        "\n",
        "        # Create TF-IDF matrix for FAQ questions\n",
        "        self.question_vectors = self.vectorizer.fit_transform(self.questions)\n",
        "\n",
        "    def preprocess_query(self, query):\n",
        "        \"\"\"\n",
        "        Preprocess the user query: lowercase, remove punctuation, etc.\n",
        "\n",
        "        Args:\n",
        "            query (str): User's question\n",
        "\n",
        "        Returns:\n",
        "            str: Preprocessed query\n",
        "        \"\"\"\n",
        "        # Convert to lowercase\n",
        "        query = query.lower()\n",
        "\n",
        "        # Remove punctuation except for question marks\n",
        "        query = re.sub(r'[^\\w\\s\\?]', '', query)\n",
        "\n",
        "        # Remove extra whitespace\n",
        "        query = re.sub(r'\\s+', ' ', query).strip()\n",
        "\n",
        "        return query\n",
        "\n",
        "    def get_answer(self, user_query):\n",
        "        \"\"\"\n",
        "        Find the most similar FAQ question and return its answer.\n",
        "\n",
        "        Args:\n",
        "            user_query (str): User's question\n",
        "\n",
        "        Returns:\n",
        "            str: Answer to the most similar FAQ question or a default message\n",
        "        \"\"\"\n",
        "        # Preprocess the query\n",
        "        processed_query = self.preprocess_query(user_query)\n",
        "\n",
        "        # Transform the user query using the trained vectorizer\n",
        "        query_vector = self.vectorizer.transform([processed_query])\n",
        "\n",
        "        # Calculate cosine similarity between user query and all FAQ questions\n",
        "        similarities = cosine_similarity(query_vector, self.question_vectors)[0]\n",
        "\n",
        "        # Find the top 3 most similar questions (for potential future use)\n",
        "        top_indices = np.argsort(similarities)[::-1][:3]\n",
        "        top_scores = similarities[top_indices]\n",
        "\n",
        "        # Find the most similar question\n",
        "        max_similarity_idx = top_indices[0]\n",
        "        max_similarity_score = top_scores[0]\n",
        "\n",
        "        # For debugging purposes, you can uncomment the following:\n",
        "        # print(f\"Query: {processed_query}\")\n",
        "        # print(f\"Best match: {self.questions[max_similarity_idx]} (Score: {max_similarity_score:.4f})\")\n",
        "        # print(f\"2nd match: {self.questions[top_indices[1]]} (Score: {top_scores[1]:.4f})\")\n",
        "        # print(f\"3rd match: {self.questions[top_indices[2]]} (Score: {top_scores[2]:.4f})\")\n",
        "\n",
        "        # If the highest similarity is above our threshold, return the corresponding answer\n",
        "        if max_similarity_score >= self.threshold:\n",
        "            return self.answers[max_similarity_idx]\n",
        "        else:\n",
        "            return \"Sorry, I couldn't find a suitable answer to your question.\"\n"
      ],
      "metadata": {
        "id": "HlnV-HsCoeO7"
      },
      "execution_count": 2,
      "outputs": []
    },
    {
      "cell_type": "code",
      "source": [
        "def get_faq_answer(user_query):\n",
        "    \"\"\"\n",
        "    Function to get answers for user queries from the FAQ data.\n",
        "\n",
        "    Args:\n",
        "        user_query (str): User's question\n",
        "\n",
        "    Returns:\n",
        "        str: Answer to the user's question or a default message\n",
        "    \"\"\"\n",
        "    return chatbot.get_answer(user_query)"
      ],
      "metadata": {
        "id": "vJigoO83olO-"
      },
      "execution_count": 3,
      "outputs": []
    },
    {
      "cell_type": "markdown",
      "source": [
        "## Step-3: Create a comprehensive FAQ database for an e-commerce store"
      ],
      "metadata": {
        "id": "Bbm5AbOnqJb8"
      }
    },
    {
      "cell_type": "code",
      "source": [
        "# Create a comprehensive FAQ database for an e-commerce store\n",
        "faq_data = {\n",
        "    # Delivery & Shipping\n",
        "    \"Do you offer delivery?\": \"Yes, we provide delivery service for all orders above 500 BDT.\",\n",
        "    \"What are your delivery options?\": \"We offer standard delivery (3-5 days), express delivery (1-2 days), and same-day delivery for orders placed before noon.\",\n",
        "    \"How much does shipping cost?\": \"Shipping is free for orders above 1000 BDT. For orders below that, a flat fee of 100 BDT applies.\",\n",
        "    \"Do you deliver on weekends?\": \"Yes, we offer weekend delivery for all areas within Dhaka city. For other locations, weekend delivery may not be available.\",\n",
        "    \"How long will it take to receive my order?\": \"Standard delivery takes 3-5 business days, express delivery takes 1-2 business days, and same-day delivery is available for orders placed before noon in select areas.\",\n",
        "    \"Do you offer international shipping?\": \"Currently, we only ship within Bangladesh.\",\n",
        "    \"Which areas do you deliver to?\": \"We deliver to all major cities and towns in Bangladesh. Remote areas may have limited delivery options.\",\n",
        "    \"Can I change my delivery address after placing an order?\": \"You can change your delivery address within 1 hour of placing your order by contacting our customer service team.\",\n",
        "\n",
        "    # Store Information\n",
        "    \"Where are you located?\": \"We are located at 123 Main Road, Dhaka.\",\n",
        "    \"What are your store hours?\": \"Our physical store is open from 10 AM to 8 PM, seven days a week.\",\n",
        "    \"Do you have a physical store?\": \"Yes, we have a flagship store at 123 Main Road, Dhaka, and several branches throughout the city.\",\n",
        "    \"Do you have multiple branches?\": \"Yes, we have 5 branches across Dhaka and 2 branches in Chittagong. Visit our website's 'Store Locator' for the full list.\",\n",
        "    \"Is parking available at your store?\": \"Yes, our flagship store offers free parking for customers for up to 2 hours.\",\n",
        "\n",
        "    # Returns & Refunds\n",
        "    \"Can I return a product?\": \"You can return a product within 7 days of delivery.\",\n",
        "    \"What is your return policy?\": \"We accept returns within 7 days of delivery. The product must be in its original packaging and undamaged.\",\n",
        "    \"How do I initiate a return?\": \"To initiate a return, log into your account, go to 'My Orders', select the order and click on 'Return Item'. Alternatively, you can contact our customer service.\",\n",
        "    \"Do you offer refunds?\": \"Yes, we offer full refunds for returned products that meet our return policy criteria. Refunds typically process within 5-7 business days.\",\n",
        "    \"Will I get a refund if my product is defective?\": \"Yes, we offer immediate replacements or full refunds for defective products. Please contact customer service within 24 hours of receiving the product.\",\n",
        "    \"Do you charge a restocking fee for returns?\": \"No, we don't charge any restocking fees for returns that comply with our return policy.\",\n",
        "    \"Can I exchange an item instead of returning it?\": \"Yes, you can exchange items within 10 days of delivery. The new item must be of equal or greater value.\",\n",
        "\n",
        "    # Order Tracking & Management\n",
        "    \"How do I track my order?\": \"You can track your order by logging into your account or using the tracking number provided in your order confirmation email.\",\n",
        "    \"How do I cancel my order?\": \"You can cancel your order within 2 hours of placing it by contacting our customer service at support@example.com.\",\n",
        "    \"Can I modify my order after placing it?\": \"Orders can be modified within 1 hour of placement. Please contact customer service immediately with your order number.\",\n",
        "    \"What if my order is delayed?\": \"If your order is delayed beyond the estimated delivery time, please contact our customer service team. We will investigate the issue and provide compensation if applicable.\",\n",
        "    \"How will I know when my order has shipped?\": \"You will receive an email and SMS notification when your order has been shipped with tracking information.\",\n",
        "\n",
        "    # Payment & Pricing\n",
        "    \"What payment methods do you accept?\": \"We accept credit/debit cards, mobile banking (bKash, Nagad), and cash on delivery.\",\n",
        "    \"Is cash on delivery available?\": \"Yes, cash on delivery is available for all areas within Dhaka city.\",\n",
        "    \"Are there any discounts for bulk orders?\": \"Yes, orders of 10 or more items qualify for a 15% discount.\",\n",
        "    \"Do you offer installment payment options?\": \"Yes, we offer 0% interest installment plans on purchases above 5000 BDT with select bank credit cards.\",\n",
        "    \"Are prices inclusive of taxes?\": \"Yes, all prices listed on our website include VAT and all applicable taxes.\",\n",
        "    \"Do you price match?\": \"Yes, we offer price matching for identical products sold by authorized retailers in Bangladesh. Please contact customer service with proof of the lower price.\",\n",
        "    \"How secure is my payment information?\": \"We use industry-standard SSL encryption to protect your payment information. We never store your full credit card details on our servers.\",\n",
        "\n",
        "    # Customer Service\n",
        "    \"How can I contact customer service?\": \"You can reach our customer service team at support@example.com or call us at +880-123-456789.\",\n",
        "    \"What are your customer service hours?\": \"Our customer service team is available 7 days a week from 9 AM to 10 PM.\",\n",
        "    \"Do you have a live chat option?\": \"Yes, our live chat support is available on our website from 9 AM to 10 PM every day.\",\n",
        "    \"How do I file a complaint?\": \"You can file a complaint by emailing complaints@example.com or by calling our dedicated complaint line at +880-123-456790.\",\n",
        "\n",
        "    # Account Management\n",
        "    \"How do I create an account?\": \"You can create an account by clicking on the 'Sign Up' button on our website or during the checkout process.\",\n",
        "    \"How do I reset my password?\": \"Click on the 'Forgot Password' link on the login page and follow the instructions sent to your registered email address.\",\n",
        "    \"How do I update my account information?\": \"Log into your account, go to 'My Profile', and click on 'Edit Profile' to update your information.\",\n",
        "    \"Is my personal information secure?\": \"Yes, we employ strict security measures to protect your personal information and never share it with third parties without your explicit consent.\",\n",
        "\n",
        "    # Products & Services\n",
        "    \"What brands do you carry?\": \"We carry a wide range of local and international brands including Nike, Adidas, Uniqlo, and many more.\",\n",
        "    \"Do you sell authentic products?\": \"Yes, we only sell 100% authentic products sourced directly from authorized distributors or manufacturers.\",\n",
        "    \"What is your warranty policy?\": \"All electronic items come with a standard 1-year manufacturer warranty unless otherwise specified.\",\n",
        "    \"Do you offer product installation services?\": \"Yes, we offer installation services for large appliances and electronics for an additional fee starting at 300 BDT.\",\n",
        "    \"How can I check if a product is in stock?\": \"The availability of products is shown on each product page. If it says 'In Stock', the item is available for immediate purchase.\",\n",
        "    \"Do you offer gift wrapping?\": \"Yes, gift wrapping is available for an additional fee of 50 BDT per item.\",\n",
        "    \"Can I pre-order items that are out of stock?\": \"Yes, select items can be pre-ordered. Look for the 'Pre-Order' button on product pages.\",\n",
        "\n",
        "    # Loyalty Program & Promotions\n",
        "    \"Do you have a loyalty program?\": \"Yes, our loyalty program awards you 1 point for every 100 BDT spent. 100 points can be redeemed for a 200 BDT discount.\",\n",
        "    \"How do I join your loyalty program?\": \"You're automatically enrolled in our loyalty program when you create an account with us.\",\n",
        "    \"Do you have any ongoing promotions?\": \"We regularly run promotions throughout the year. Check our 'Promotions' page or subscribe to our newsletter to stay updated.\",\n",
        "    \"Do you offer birthday discounts?\": \"Yes, we offer a 10% discount on purchases made during your birthday month. Ensure your birth date is correctly entered in your profile.\",\n",
        "    \"How do I use my loyalty points?\": \"You can use your loyalty points during checkout. Simply select 'Use Points' and choose how many points you want to redeem.\",\n",
        "\n",
        "    # Technical Support\n",
        "    \"The website is not working properly. What should I do?\": \"Please try clearing your browser cache and cookies. If the issue persists, try using a different browser or contact our technical support team.\",\n",
        "    \"How do I use the mobile app?\": \"Download our app from the App Store or Google Play Store, create an account or log in, and you can start shopping immediately.\",\n",
        "    \"My payment failed. What should I do?\": \"Please check your card details and available balance. If the issue persists, try using a different payment method or contact your bank.\",\n",
        "\n",
        "    # Others\n",
        "    \"Do you have a blog?\": \"Yes, we have a blog featuring product reviews, style guides, and industry news. You can access it from the footer of our website.\",\n",
        "    \"Do you offer corporate discounts?\": \"Yes, we offer special discounts for corporate bulk orders. Please email corporate@example.com for more information.\",\n",
        "    \"How can I become a supplier or vendor?\": \"Please send your company details and product catalog to vendors@example.com for consideration.\",\n",
        "    \"Do you have a mobile app?\": \"Yes, our mobile app is available for download on both iOS and Android platforms.\",\n",
        "}"
      ],
      "metadata": {
        "id": "j0RRmD7RotRz"
      },
      "execution_count": 4,
      "outputs": []
    },
    {
      "cell_type": "markdown",
      "source": [
        "## Step-4: Initialize the chatbot with our FAQ data"
      ],
      "metadata": {
        "id": "1u1XFfglqPgi"
      }
    },
    {
      "cell_type": "code",
      "source": [
        "chatbot = FAQChatbot(faq_data)"
      ],
      "metadata": {
        "id": "Ybb2Du-movGU"
      },
      "execution_count": 5,
      "outputs": []
    },
    {
      "cell_type": "markdown",
      "source": [
        "## Step-5: Demo function to test multiple queries"
      ],
      "metadata": {
        "id": "hg8hQcqYqTzN"
      }
    },
    {
      "cell_type": "code",
      "source": [
        "def demo_chatbot():\n",
        "    test_queries = [\n",
        "        # Basic tests matching original examples\n",
        "        \"Do you offer delivery?\",\n",
        "        \"Where are you located?\",\n",
        "        \"Can I return a product?\",\n",
        "        \"Do you sell mobile phones?\",\n",
        "\n",
        "        # Semantic matching tests\n",
        "        \"How can I get my package delivered?\",\n",
        "        \"What's your store address?\",\n",
        "        \"I want to send back an item\",\n",
        "        \"Do you have a store in New York?\",\n",
        "\n",
        "        # Tests for new FAQ data\n",
        "        \"Is my data safe with you?\",\n",
        "        \"Can I pay in installments?\",\n",
        "        \"My order hasn't arrived yet, what should I do?\",\n",
        "        \"Do you have any sales going on?\",\n",
        "        \"How do I get points in your loyalty program?\",\n",
        "        \"I forgot my password\",\n",
        "        \"The website is slow\",\n",
        "        \"Do you deliver outside Dhaka?\",\n",
        "        \"Can I exchange instead of return?\",\n",
        "        \"I received a defective product\"\n",
        "    ]\n",
        "\n",
        "    print(\"FAQ Chatbot Demo:\\n\")\n",
        "    for query in test_queries:\n",
        "        answer = get_faq_answer(query)\n",
        "        print(f\"Q: {query}\")\n",
        "        print(f\"A: {answer}\")\n",
        "        print(\"-\" * 50)\n",
        "demo_chatbot()"
      ],
      "metadata": {
        "colab": {
          "base_uri": "https://localhost:8080/"
        },
        "id": "vERA7ZtMo1gG",
        "outputId": "df7954e9-b7fc-4de2-acd1-432776bcaba2"
      },
      "execution_count": 6,
      "outputs": [
        {
          "output_type": "stream",
          "name": "stdout",
          "text": [
            "FAQ Chatbot Demo:\n",
            "\n",
            "Q: Do you offer delivery?\n",
            "A: Yes, we provide delivery service for all orders above 500 BDT.\n",
            "--------------------------------------------------\n",
            "Q: Where are you located?\n",
            "A: We are located at 123 Main Road, Dhaka.\n",
            "--------------------------------------------------\n",
            "Q: Can I return a product?\n",
            "A: You can return a product within 7 days of delivery.\n",
            "--------------------------------------------------\n",
            "Q: Do you sell mobile phones?\n",
            "A: Yes, our mobile app is available for download on both iOS and Android platforms.\n",
            "--------------------------------------------------\n",
            "Q: How can I get my package delivered?\n",
            "A: Sorry, I couldn't find a suitable answer to your question.\n",
            "--------------------------------------------------\n",
            "Q: What's your store address?\n",
            "A: Our physical store is open from 10 AM to 8 PM, seven days a week.\n",
            "--------------------------------------------------\n",
            "Q: I want to send back an item\n",
            "A: Yes, you can exchange items within 10 days of delivery. The new item must be of equal or greater value.\n",
            "--------------------------------------------------\n",
            "Q: Do you have a store in New York?\n",
            "A: Our physical store is open from 10 AM to 8 PM, seven days a week.\n",
            "--------------------------------------------------\n",
            "Q: Is my data safe with you?\n",
            "A: Sorry, I couldn't find a suitable answer to your question.\n",
            "--------------------------------------------------\n",
            "Q: Can I pay in installments?\n",
            "A: Sorry, I couldn't find a suitable answer to your question.\n",
            "--------------------------------------------------\n",
            "Q: My order hasn't arrived yet, what should I do?\n",
            "A: If your order is delayed beyond the estimated delivery time, please contact our customer service team. We will investigate the issue and provide compensation if applicable.\n",
            "--------------------------------------------------\n",
            "Q: Do you have any sales going on?\n",
            "A: Sorry, I couldn't find a suitable answer to your question.\n",
            "--------------------------------------------------\n",
            "Q: How do I get points in your loyalty program?\n",
            "A: Yes, our loyalty program awards you 1 point for every 100 BDT spent. 100 points can be redeemed for a 200 BDT discount.\n",
            "--------------------------------------------------\n",
            "Q: I forgot my password\n",
            "A: Click on the 'Forgot Password' link on the login page and follow the instructions sent to your registered email address.\n",
            "--------------------------------------------------\n",
            "Q: The website is slow\n",
            "A: Please try clearing your browser cache and cookies. If the issue persists, try using a different browser or contact our technical support team.\n",
            "--------------------------------------------------\n",
            "Q: Do you deliver outside Dhaka?\n",
            "A: We deliver to all major cities and towns in Bangladesh. Remote areas may have limited delivery options.\n",
            "--------------------------------------------------\n",
            "Q: Can I exchange instead of return?\n",
            "A: Yes, you can exchange items within 10 days of delivery. The new item must be of equal or greater value.\n",
            "--------------------------------------------------\n",
            "Q: I received a defective product\n",
            "A: Yes, we offer immediate replacements or full refunds for defective products. Please contact customer service within 24 hours of receiving the product.\n",
            "--------------------------------------------------\n"
          ]
        }
      ]
    },
    {
      "cell_type": "markdown",
      "source": [
        "## Examples from the problem statement"
      ],
      "metadata": {
        "id": "JMgPM05Nqah7"
      }
    },
    {
      "cell_type": "code",
      "source": [
        "print(\"Example 1:Do you offer delivery?\")\n",
        "print(get_faq_answer(\"Do you offer delivery?\"))\n",
        "\n",
        "print(\"\\nExample 2:Where are you located?\")\n",
        "print(get_faq_answer(\"Where are you located?\"))\n",
        "\n",
        "print(\"\\nExample 3:Can I return a product?\")\n",
        "print(get_faq_answer(\"Can I return a product?\"))\n",
        "\n",
        "print(\"\\nExample 4:Do you sell mobile phones?\")\n",
        "print(get_faq_answer(\"Do you sell mobile phones?\"))"
      ],
      "metadata": {
        "colab": {
          "base_uri": "https://localhost:8080/"
        },
        "id": "9qEgtzKQo66_",
        "outputId": "b143b3dc-6817-4cad-e981-97b5ecddee76"
      },
      "execution_count": 7,
      "outputs": [
        {
          "output_type": "stream",
          "name": "stdout",
          "text": [
            "Example 1:Do you offer delivery?\n",
            "Yes, we provide delivery service for all orders above 500 BDT.\n",
            "\n",
            "Example 2:Where are you located?\n",
            "We are located at 123 Main Road, Dhaka.\n",
            "\n",
            "Example 3:Can I return a product?\n",
            "You can return a product within 7 days of delivery.\n",
            "\n",
            "Example 4:Do you sell mobile phones?\n",
            "Yes, our mobile app is available for download on both iOS and Android platforms.\n"
          ]
        }
      ]
    },
    {
      "cell_type": "markdown",
      "source": [
        "## Additional tests to demonstrate the improved chatbot with expanded FAQ data"
      ],
      "metadata": {
        "id": "YJxIWJt6qfDA"
      }
    },
    {
      "cell_type": "code",
      "execution_count": 8,
      "metadata": {
        "colab": {
          "base_uri": "https://localhost:8080/"
        },
        "id": "2adHXgLAlQJV",
        "outputId": "961b76c5-2060-4094-8668-9dfecc4a42ad"
      },
      "outputs": [
        {
          "output_type": "stream",
          "name": "stdout",
          "text": [
            "\n",
            "Expanded FAQ Testing:\n",
            "Query: How do I reset my password?\n",
            "Answer: Click on the 'Forgot Password' link on the login page and follow the instructions sent to your registered email address.\n",
            "\n",
            "Query: Is my credit card information safe?\n",
            "Answer: We use industry-standard SSL encryption to protect your payment information. We never store your full credit card details on our servers.\n",
            "\n",
            "Query: Can I pay in EMI?\n",
            "Answer: Sorry, I couldn't find a suitable answer to your question.\n",
            "\n",
            "Query: My product is broken, what should I do?\n",
            "Answer: You can return a product within 7 days of delivery.\n",
            "\n",
            "Query: Do you have discounts on my birthday?\n",
            "Answer: Yes, we offer a 10% discount on purchases made during your birthday month. Ensure your birth date is correctly entered in your profile.\n"
          ]
        }
      ],
      "source": [
        "print(\"\\nExpanded FAQ Testing:\")\n",
        "print(\"Query: How do I reset my password?\")\n",
        "print(\"Answer:\", get_faq_answer(\"How do I reset my password?\"))\n",
        "\n",
        "print(\"\\nQuery: Is my credit card information safe?\")\n",
        "print(\"Answer:\", get_faq_answer(\"Is my credit card information safe?\"))\n",
        "\n",
        "print(\"\\nQuery: Can I pay in EMI?\")\n",
        "print(\"Answer:\", get_faq_answer(\"Can I pay in EMI?\"))\n",
        "\n",
        "print(\"\\nQuery: My product is broken, what should I do?\")\n",
        "print(\"Answer:\", get_faq_answer(\"My product is broken, what should I do?\"))\n",
        "\n",
        "print(\"\\nQuery: Do you have discounts on my birthday?\")\n",
        "print(\"Answer:\", get_faq_answer(\"Do you have discounts on my birthday?\"))"
      ]
    }
  ]
}